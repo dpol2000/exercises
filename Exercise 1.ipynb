{
 "cells": [
  {
   "cell_type": "markdown",
   "metadata": {},
   "source": [
    "<h1> Exercise 1</h1>"
   ]
  },
  {
   "cell_type": "markdown",
   "metadata": {},
   "source": [
    "A friend of yours wants to clean his Facebook friend list and is going to remove one friend during a week. What is the probability that you will be removed from his friend list, which has 300 members?"
   ]
  },
  {
   "cell_type": "markdown",
   "metadata": {},
   "source": [
    "**Solution**:\n",
    "\n",
    "Let the event A is your removal, and the event B is your staying in the friend's list. Then P(A) + P(B) = 1, as A and B are mutually exclusive.\n",
    "\n",
    "Let's find the probability of B. It's clear that you can only say you have survived the cleaning if you're in the list after all the cleaning days. That is, P(B) is probability of staying in the list after the last day. This probability is conditional, i.e. depends on the previous days, because you must survive all the days. Then P(B) = P(bn) = P(b1) x ... x P(bn-1), where b1...bn-1 are probabilities to survive on the days 1...n-1, and x means multiplication.\n",
    "\n",
    "Let's designate the number of friends on the first day as f. Then, the probability to survive on the first day is simply p(b1) = (f-1)/f. The probability to survive on the second day is p(b2) = p(b1) x (f-2)/(f-1)\n",
    "\n",
    "The probability to survive on the third day is p(b3) = p(b2) x (f-3)/(f-2). And the probability to survive on the nth day is p(bn) = p(bn-1) x (f-n+2)/(f-n+1).\n",
    "\n",
    "That is, P(B) = (f-1/f) x (f-2)/(f-1) * (f-3)/(f-2) x ... x (f-n+2)/(f-n+1).\n",
    "\n",
    "Let's write the solution as a python function."
   ]
  },
  {
   "cell_type": "code",
   "execution_count": 43,
   "metadata": {},
   "outputs": [],
   "source": [
    "def surviving_prob1(n, f):\n",
    "    '''\n",
    "        Compute the probability of surviving in the list of f members with one member being removed each day \n",
    "        for n days\n",
    "    '''\n",
    "    if (n > f):\n",
    "        return 0\n",
    "    p = 1\n",
    "    for i in range(n):\n",
    "        p = p * (f-i-1) / (f-i)\n",
    "    return p"
   ]
  },
  {
   "cell_type": "markdown",
   "metadata": {},
   "source": [
    "Using n = 7 and f = 300, we get the following result:"
   ]
  },
  {
   "cell_type": "code",
   "execution_count": 44,
   "metadata": {},
   "outputs": [
    {
     "data": {
      "text/plain": [
       "0.9766666666666666"
      ]
     },
     "execution_count": 44,
     "metadata": {},
     "output_type": "execute_result"
    }
   ],
   "source": [
    "surviving_prob1(7, 300)"
   ]
  },
  {
   "cell_type": "markdown",
   "metadata": {},
   "source": [
    "This is he probability of surviving, and the probability of removal is 1 - probability of surviving."
   ]
  },
  {
   "cell_type": "code",
   "execution_count": 50,
   "metadata": {},
   "outputs": [
    {
     "data": {
      "text/plain": [
       "0.023333333333333428"
      ]
     },
     "execution_count": 50,
     "metadata": {},
     "output_type": "execute_result"
    }
   ],
   "source": [
    "1 - surviving_prob1(7, 300)"
   ]
  },
  {
   "cell_type": "markdown",
   "metadata": {},
   "source": [
    "There is another way of reasoning, too.\n",
    "\n",
    "Let's find out P(A) directly. Let a1, a2... an are the events of you being removed at day 1, 2,  ...n. Then, P(A) = P(a1) + P(a2) + ... + P(n), as all these events are mutually exclusive. Let's designate the number of friends on the first day as f.\n",
    "\n",
    "Then, the probability to be removed on the day 1 is P(a1) = 1/f.\n",
    "The probability to be removed on the day 2 is P(a2) = (1-P(a1)) x 1/(f-1).\n",
    "The probability to be removed on the day n is P(an) = (1-P(an-1)) x 1/(f-n-1).\n",
    "\n",
    "To get the result we add up all these probabilities, from P(a1) to P(an).\n",
    "\n",
    "Let's create another function in python and use it."
   ]
  },
  {
   "cell_type": "code",
   "execution_count": 54,
   "metadata": {
    "collapsed": true
   },
   "outputs": [],
   "source": [
    "def removal_prob(n, f):\n",
    "    '''\n",
    "        Compute the probability of not surviving in the list of f members with one member being removed each day \n",
    "        for n days\n",
    "    '''\n",
    "    if (n > f):\n",
    "        return 0\n",
    "    p = 0\n",
    "    for i in range(n):\n",
    "        p = p + (1-p) * (1/(f-i))\n",
    "    return p"
   ]
  },
  {
   "cell_type": "code",
   "execution_count": 52,
   "metadata": {},
   "outputs": [
    {
     "data": {
      "text/plain": [
       "0.023333333333333334"
      ]
     },
     "execution_count": 52,
     "metadata": {},
     "output_type": "execute_result"
    }
   ],
   "source": [
    "removal_prob(7, 300)"
   ]
  },
  {
   "cell_type": "markdown",
   "metadata": {
    "collapsed": true
   },
   "source": [
    "We see that the results are identical."
   ]
  },
  {
   "cell_type": "code",
   "execution_count": null,
   "metadata": {
    "collapsed": true
   },
   "outputs": [],
   "source": []
  }
 ],
 "metadata": {
  "kernelspec": {
   "display_name": "Python 3",
   "language": "python",
   "name": "python3"
  },
  "language_info": {
   "codemirror_mode": {
    "name": "ipython",
    "version": 3
   },
   "file_extension": ".py",
   "mimetype": "text/x-python",
   "name": "python",
   "nbconvert_exporter": "python",
   "pygments_lexer": "ipython3",
   "version": "3.5.2"
  }
 },
 "nbformat": 4,
 "nbformat_minor": 2
}
